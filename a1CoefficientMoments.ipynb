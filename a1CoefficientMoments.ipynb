{
 "cells": [
  {
   "cell_type": "code",
   "execution_count": 5,
   "id": "440ab6",
   "metadata": {
    "collapsed": false
   },
   "outputs": [
    {
     "name": "stdout",
     "output_type": "stream",
     "text": [
      "CPU times: user 516 µs, sys: 24 µs, total: 540 µs\n",
      "Wall time: 547 µs\n",
      "CPU times: user 2.2 ms, sys: 0 ns, total: 2.2 ms\n",
      "Wall time: 2.21 ms\n",
      "CPU times: user 6.75 ms, sys: 3.71 ms, total: 10.5 ms\n",
      "Wall time: 9.94 ms\n",
      "CPU times: user 32 ms, sys: 0 ns, total: 32 ms\n",
      "Wall time: 31.7 ms\n",
      "CPU times: user 67.4 ms, sys: 0 ns, total: 67.4 ms\n",
      "Wall time: 75.5 ms\n"
     ]
    },
    {
     "name": "stdout",
     "output_type": "stream",
     "text": [
      "CPU times: user 176 ms, sys: 0 ns, total: 176 ms\n",
      "Wall time: 184 ms\n"
     ]
    },
    {
     "name": "stdout",
     "output_type": "stream",
     "text": [
      "CPU times: user 426 ms, sys: 0 ns, total: 426 ms\n",
      "Wall time: 430 ms\n"
     ]
    },
    {
     "name": "stdout",
     "output_type": "stream",
     "text": [
      "CPU times: user 874 ms, sys: 3.82 ms, total: 878 ms\n",
      "Wall time: 919 ms\n"
     ]
    },
    {
     "name": "stdout",
     "output_type": "stream",
     "text": [
      "CPU times: user 1.66 s, sys: 0 ns, total: 1.66 s\n",
      "Wall time: 1.68 s\n"
     ]
    },
    {
     "name": "stdout",
     "output_type": "stream",
     "text": [
      "CPU times: user 3.15 s, sys: 0 ns, total: 3.15 s\n",
      "Wall time: 3.19 s\n",
      "[1, 0, 1, 0, 57, 0, 5140, 0, 615545, 0, 89863956]\n"
     ]
    }
   ],
   "source": [
    "from sympy import Matrix, symbols, BlockDiagMatrix, I\n",
    "import numpy as np\n",
    "from sympy.utilities.iterables import multiset_combinations\n",
    "from math import factorial\n",
    "\n",
    "\n",
    "# ell = 5\n",
    "\n",
    "U=[]\n",
    "for n in [0..12]:\n",
    "\tif n%2==0:\n",
    "\t\tU.append(binomial(n,n/2))\n",
    "\telse:\n",
    "\t\tU.append(0)\n",
    "        \n",
    "        \n",
    "def multinomial(*args):\n",
    "    factorials = [factorial(i) for i in range(n+1)]\n",
    "\n",
    "    total = factorials[sum(args)] \n",
    "\n",
    "    for arg in args:\n",
    "        total //= factorials[arg] \n",
    "\n",
    "    return total\n",
    "\n",
    "\n",
    "def combinations_sum(n, num_elements):\n",
    "    if num_elements == 1:\n",
    "        yield (n,)\n",
    "    else:\n",
    "        for i in range(n+1):\n",
    "            for combination in combinations_sum(n - i, num_elements - 1):\n",
    "                yield (i,) + combination\n",
    "\n",
    "\n",
    "def nth_moment(n):\n",
    "    Mn = 0;\n",
    "\n",
    "    for combination in combinations_sum(n, 10): \n",
    "        a, b, c, d, e, f, g, h, i, j = combination\n",
    "\n",
    "        uProd = np.prod(U[a] * U[b] * U[c] * U[d] * U[e] * U[f] * U[g] * U[h] * U[i] * U[j])\n",
    "\n",
    "        Mn += multinomial(*combination) * uProd\n",
    "\n",
    "    return Mn\n",
    "\n",
    "\n",
    "a1momentList=[1]\n",
    "for n in range(1,11):\n",
    "\t%time a1momentList.append(nth_moment(n)/20)\n",
    "\n",
    "print(a1momentList)\n"
   ]
  },
  {
   "cell_type": "code",
   "execution_count": 7,
   "id": "442dbd",
   "metadata": {
    "collapsed": false
   },
   "outputs": [
    {
     "name": "stdout",
     "output_type": "stream",
     "text": [
      "CPU times: user 3.33 ms, sys: 0 ns, total: 3.33 ms\n",
      "Wall time: 7.05 ms\n",
      "CPU times: user 15.1 ms, sys: 0 ns, total: 15.1 ms\n",
      "Wall time: 14.7 ms\n",
      "CPU times: user 146 ms, sys: 0 ns, total: 146 ms\n",
      "Wall time: 167 ms\n"
     ]
    },
    {
     "name": "stdout",
     "output_type": "stream",
     "text": [
      "CPU times: user 594 ms, sys: 3.98 ms, total: 598 ms\n",
      "Wall time: 608 ms\n"
     ]
    },
    {
     "name": "stdout",
     "output_type": "stream",
     "text": [
      "CPU times: user 2.17 s, sys: 37 µs, total: 2.17 s\n",
      "Wall time: 2.21 s\n"
     ]
    },
    {
     "name": "stdout",
     "output_type": "stream",
     "text": [
      "CPU times: user 9.69 s, sys: 20 ms, total: 9.71 s\n",
      "Wall time: 9.94 s\n"
     ]
    },
    {
     "name": "stdout",
     "output_type": "stream",
     "text": [
      "CPU times: user 44.3 s, sys: 263 ms, total: 44.6 s\n",
      "Wall time: 45.6 s\n"
     ]
    },
    {
     "name": "stdout",
     "output_type": "stream",
     "text": [
      "CPU times: user 2min 13s, sys: 311 ms, total: 2min 14s\n",
      "Wall time: 2min 16s\n",
      "[1, 0, 1, 0, 123, 0, 24610, 0, 6727035]\n"
     ]
    }
   ],
   "source": [
    "# ell = 7\n",
    "\n",
    "def multinomial(*args):\n",
    "    factorials = [factorial(i) for i in range(n+1)]\n",
    "\n",
    "    total = factorials[sum(args)] \n",
    "\n",
    "    for arg in args:\n",
    "        total //= factorials[arg] \n",
    "\n",
    "    return total\n",
    "\n",
    "\n",
    "def combinations_sum(n, num_elements):\n",
    "    if num_elements == 1:\n",
    "        yield (n,)\n",
    "    else:\n",
    "        for i in range(n+1):\n",
    "            for combination in combinations_sum(n - i, num_elements - 1):\n",
    "                yield (i,) + combination\n",
    "\n",
    "\n",
    "def nth_moment(n):\n",
    "    Mn = 0;\n",
    "\n",
    "    for combination in combinations_sum(n, 21): \n",
    "        a, b, c, d, e, f, g, h, i, j, k, l, m, n, o, p, q, r, s, t, u = combination \n",
    "\n",
    "        uProd = np.prod(U[a] * U[b] * U[c] * U[d] * U[e] * U[f] * U[g] * U[h] * U[i] * U[j]* U[k]* U[l]* U[m]* U[n]* U[o]* U[p]* U[q]* U[r]* U[s]* U[t]* U[u])\n",
    "    \n",
    "        Mn += multinomial(*combination) * uProd\n",
    "    return Mn\n",
    "\n",
    "\n",
    "a1moments=[1]\n",
    "for n in range(1,9):\n",
    "\t%time a1moments.append(nth_moment(n)/42)\n",
    "\n",
    "print(a1moments)"
   ]
  },
  {
   "cell_type": "code",
   "execution_count": 0,
   "id": "d0cf9d",
   "metadata": {
    "collapsed": false
   },
   "outputs": [
   ],
   "source": [
   ]
  }
 ],
 "metadata": {
  "kernelspec": {
   "argv": [
    "sage-10.4",
    "--python",
    "-m",
    "sage.repl.ipython_kernel",
    "--matplotlib=inline",
    "-f",
    "{connection_file}"
   ],
   "display_name": "SageMath 10.4",
   "env": {
   },
   "language": "sagemath",
   "metadata": {
    "cocalc": {
     "description": "Open-source mathematical software system",
     "priority": 10,
     "url": "https://www.sagemath.org/"
    }
   },
   "name": "sage-10.4",
   "resource_dir": "/ext/jupyter/kernels/sage-10.4"
  },
  "language_info": {
   "codemirror_mode": {
    "name": "ipython",
    "version": 3
   },
   "file_extension": ".py",
   "mimetype": "text/x-python",
   "name": "python",
   "nbconvert_exporter": "python",
   "pygments_lexer": "ipython3",
   "version": "3.12.4"
  }
 },
 "nbformat": 4,
 "nbformat_minor": 4
}
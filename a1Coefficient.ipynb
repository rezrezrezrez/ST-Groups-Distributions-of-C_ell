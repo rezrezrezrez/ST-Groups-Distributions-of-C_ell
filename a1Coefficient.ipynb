from sympy import Matrix, symbols, BlockDiagMatrix, I
import numpy as np
from sympy.utilities.iterables import multiset_combinations
from math import factorial

U=[]
for n in [0..12]:
	if n%2==0:
		U.append(binomial(n,n/2))
	else:
		U.append(0)

def nth_moment(n):
    Mn = 0;

    for combination in combinations_sum(n, 10):
        a, b, c, d, e, f, g, h, i, j = combination 

        uProd = np.prod(U[a] * U[b] * U[c] * U[d] * U[e] * U[f] * U[g] * U[h] * U[i] * U[j])

        Mn += multinomial(*combination) * uProd

    return Mn

a1momentList=[1]
for n in range(1,9):
	%time a1momentList.append(Momenta1(n))

print(a1momentList)

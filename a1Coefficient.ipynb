from sympy import Matrix, symbols, BlockDiagMatrix, I
import numpy as np
from sympy.utilities.iterables import multiset_combinations
from math import factorial
from sage.all import *

# Define binomial coefficient function if not using SageMath's binomial directly
# binomial = lambda n, k: factorial(n) // (factorial(k) * factorial(n - k))

# Generate U values
U = []
for n in range(13):  # Corrected range
    if n % 2 == 0:
        U.append(binomial(n, n // 2))  # Integer division
    else:
        U.append(0)

# Function to calculate nth moment
def nth_moment(n):
    Mn = 0
    for combination in combinations_sum(n, 10):
        a, b, c, d, e, f, g, h, i, j = combination 

        uProd = np.prod([U[a], U[b], U[c], U[d], U[e], U[f], U[g], U[h], U[i], U[j]])  # List for np.prod

        Mn += multinomial(*combination) * uProd

    return Mn

# Generate moments list
a1momentList = [1]
for n in range(1, 9):
    %time a1momentList.append(nth_moment(n))  # Corrected function name

print(a1momentList)


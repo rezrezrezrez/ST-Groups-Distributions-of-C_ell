{
 "cells": [
  {
   "cell_type": "code",
   "execution_count": 8,
   "id": "06b8ad",
   "metadata": {
    "collapsed": false
   },
   "outputs": [
   ],
   "source": [
    "%load_ext sage"
   ]
  },
  {
   "cell_type": "markdown",
   "id": "a0a4e3",
   "metadata": {
    "collapsed": false
   },
   "source": [
    "# The Moment Sequence of the $a_{1}$ Coefficient\n",
    "\n",
    "## Intro\n",
    "\n",
    "In this notebook, our goal is to compute the moment sequence associated with the $a_1$ coefficient of the characteristic polynomial of each $U\\cdot \\gamma^{i}$, as mentioned in Section 4.2.\n",
    "\n",
    "## Structure\n",
    "\n",
    "Our calculations and code are based on the information and multinomial formula expressed in Section 4.1.1. We first compute the moment sequence for $\\ell =5$, and then for $\\ell = 7$.\n",
    "\n",
    "## $\\ell = 5$\n",
    "\n",
    "In the following code, we compute the $a_1$ moment sequence by memoizing up to the 20th moment:\n",
    "\n"
   ]
  },
  {
   "cell_type": "code",
   "execution_count": 25,
   "id": "0fb30f",
   "metadata": {
    "collapsed": false
   },
   "outputs": [
   ],
   "source": [
    "a1moment_memo = {}\n",
    "u_memo = {}"
   ]
  },
  {
   "cell_type": "code",
   "execution_count": 44,
   "id": "440ab6",
   "metadata": {
    "collapsed": false
   },
   "outputs": [
   ],
   "source": [
    "import numpy as np\n",
    "from math import factorial\n",
    "from sage.all import binomial as sg_binomial\n",
    "import time\n",
    "from datetime import timedelta # purely for recording runtime\n",
    "\n",
    "def U(n):\n",
    "    if n not in u_memo:\n",
    "        if n%2==0:\n",
    "            u_memo[n] = binomial(n, n/2)\n",
    "        else:\n",
    "            u_memo[n] = 0\n",
    "    return u_memo[n]\n",
    "    \n",
    "\n",
    "def multinomial(*args):\n",
    "    factorials = [factorial(i) for i in range(n+1)] \n",
    "\n",
    "    total = factorials[sum(args)] \n",
    "\n",
    "    for arg in args:\n",
    "        total //=factorials[arg]\n",
    "    return total\n",
    "\n",
    "\n",
    "def combinations_sum(n, num_elements):\n",
    "    if num_elements == 1:\n",
    "        yield (n,)\n",
    "    else:\n",
    "        for i in range(n+1):\n",
    "            for combination in combinations_sum(n - i, num_elements - 1):\n",
    "                yield (i,) + combination \n",
    "                \n",
    "\n",
    "def nth_moment5(n):\n",
    "    if n in a1moment_memo: \n",
    "        return a1moment_memo[n]\n",
    "    \n",
    "    Mn = 0;\n",
    "    for combination in combinations_sum(n, 10):\n",
    "        a, b, c, d, e, f, g, h, i, j = combination \n",
    "\n",
    "        uProd = np.prod(U(a) * U(b) * U(c) * U(d) * U(e) * U(f) * U(g) * U(h) * U(i) * U(j))\n",
    "    \n",
    "        Mn += multinomial(*combination) * uProd\n",
    "        \n",
    "    a1moment_memo[n] = Mn  \n",
    "    return Mn\n",
    "\n",
    "\n",
    "a1momentList=[1]\n",
    "start_time = time.perf_counter()\n",
    "\n",
    "for n in range(1,21):\n",
    "\ta1momentList.append(nth_moment5(n)/20)\n",
    "    \n",
    "total_time = timedelta(seconds=time.perf_counter()-start_time)\n",
    "\n",
    "print(a1momentList)\n",
    "print('Total time: ', total_time)"
   ]
  },
  {
   "cell_type": "markdown",
   "id": "ead9c9",
   "metadata": {
    "collapsed": false
   },
   "source": [
    "## $\\ell = 7$\n",
    "\n",
    "In the following code, we compute the $a_1$ moment sequence by memoizing up to the 10th moment:\n",
    "\n"
   ]
  },
  {
   "cell_type": "code",
   "execution_count": 13,
   "id": "9b65c2",
   "metadata": {
    "collapsed": false
   },
   "outputs": [
   ],
   "source": [
    "a1moment_memo7 = {}"
   ]
  },
  {
   "cell_type": "code",
   "execution_count": 23,
   "id": "442dbd",
   "metadata": {
    "collapsed": false,
    "scrolled": true
   },
   "outputs": [
    {
     "name": "stdout",
     "output_type": "stream",
     "text": [
      "[1, 0, 1, 0, 123, 0, 24610, 0, 6727035, 0, 2306694726]\n",
      "Total time:  0:25:43.243375\n"
     ]
    }
   ],
   "source": [
    "def nth_moment7(n):\n",
    "    if n in a1moment_memo7:\n",
    "        return a1moment_memo7[n]\n",
    "    \n",
    "    Mn = 0;\n",
    "    for combination in combinations_sum(n, 21): \n",
    "        a, b, c, d, e, f, g, h, i, j, k, l, m, n_, o, p, q, r, s, t, u = combination    # rename the 14th variable to avoid shadowing the 'n' key for dictionary\n",
    "\n",
    "        uProd = np.prod(U(a) * U(b) * U(c) * U(d) * U(e) * U(f) * U(g) * U(h) * U(i) * U(j)* U(k)* U(l)* U(m)* U(n_)* U(o)* U(p)* U(q)* U(r)* U(s)* U(t)* U(u))\n",
    "    \n",
    "        Mn += multinomial(*combination) * uProd\n",
    "        \n",
    "    a1moment_memo7[n] = Mn \n",
    "    return Mn\n",
    "\n",
    "\n",
    "a1moments=[1]\n",
    "                        \n",
    "start_time7 = time.perf_counter()\n",
    "                        \n",
    "for n in range(1,11):\n",
    "    if n%2 != 0:\n",
    "        a1moments.append(0)\n",
    "    else:\n",
    "        a1moments.append(nth_moment7(n)/42)\n",
    "                        \n",
    "print(a1moments)\n",
    "total_time7 = timedelta(seconds=time.perf_counter()-start_time7)\n",
    "print('Total time: ', total_time7)\n",
    "# u_memo"
   ]
  },
  {
   "cell_type": "markdown",
   "id": "9f3d41",
   "metadata": {
    "collapsed": false
   },
   "source": [
   ]
  }
 ],
 "metadata": {
  "kernelspec": {
   "argv": [
    "sage-10.4",
    "--python",
    "-m",
    "sage.repl.ipython_kernel",
    "--matplotlib=inline",
    "-f",
    "{connection_file}"
   ],
   "display_name": "SageMath 10.4",
   "env": {
   },
   "language": "sagemath",
   "metadata": {
    "cocalc": {
     "description": "Open-source mathematical software system",
     "priority": 10,
     "url": "https://www.sagemath.org/"
    }
   },
   "name": "sage-10.4",
   "resource_dir": "/ext/jupyter/kernels/sage-10.4"
  },
  "language_info": {
   "codemirror_mode": {
    "name": "ipython",
    "version": 3
   },
   "file_extension": ".py",
   "mimetype": "text/x-python",
   "name": "python",
   "nbconvert_exporter": "python",
   "pygments_lexer": "ipython3",
   "version": "3.12.4"
  }
 },
 "nbformat": 4,
 "nbformat_minor": 4
}
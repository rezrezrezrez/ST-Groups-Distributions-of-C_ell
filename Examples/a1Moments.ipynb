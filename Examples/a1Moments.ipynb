{
 "cells": [
  {
   "cell_type": "code",
   "execution_count": 3,
   "id": "06b8ad",
   "metadata": {
    "collapsed": false
   },
   "outputs": [
   ],
   "source": [
    "%load_ext sage"
   ]
  },
  {
   "cell_type": "markdown",
   "id": "a0a4e3",
   "metadata": {
    "collapsed": false
   },
   "source": [
    "# The Moment Sequence of the $a_{1}$ Coefficient\n",
    "\n",
    "## Intro\n",
    "\n",
    "In this notebook, our goal is to compute the moment sequence associated with the $a_1$ coefficient of the characteristic polynomial of each $U\\cdot \\gamma^{i}$, as mentioned in Section 4.2.\n",
    "\n",
    "## Structure\n",
    "\n",
    "Our calculations and code are based on the information and multinomial formula expressed in Section 4.1.1. We first compute the moment sequence for $\\ell =5$, and then for $\\ell = 7$.\n",
    "\n",
    "## $\\ell = 5$\n",
    "\n",
    "In the following code, we compute the $a_1$ moment sequence:\n",
    "\n"
   ]
  },
  {
   "cell_type": "code",
   "execution_count": 11,
   "id": "440ab6",
   "metadata": {
    "collapsed": false
   },
   "outputs": [
    {
     "name": "stdout",
     "output_type": "stream",
     "text": [
      "CPU times: user 1.02 ms, sys: 5 µs, total: 1.02 ms\n",
      "Wall time: 1.04 ms\n",
      "CPU times: user 3.52 ms, sys: 0 ns, total: 3.52 ms\n",
      "Wall time: 3.43 ms\n",
      "CPU times: user 9.23 ms, sys: 0 ns, total: 9.23 ms\n",
      "Wall time: 9.22 ms\n",
      "CPU times: user 26.1 ms, sys: 0 ns, total: 26.1 ms\n",
      "Wall time: 26.2 ms\n",
      "CPU times: user 70.2 ms, sys: 3.99 ms, total: 74.1 ms\n",
      "Wall time: 78.2 ms\n"
     ]
    },
    {
     "name": "stdout",
     "output_type": "stream",
     "text": [
      "CPU times: user 177 ms, sys: 0 ns, total: 177 ms\n",
      "Wall time: 189 ms\n"
     ]
    },
    {
     "name": "stdout",
     "output_type": "stream",
     "text": [
      "CPU times: user 407 ms, sys: 0 ns, total: 407 ms\n",
      "Wall time: 412 ms\n"
     ]
    },
    {
     "name": "stdout",
     "output_type": "stream",
     "text": [
      "CPU times: user 814 ms, sys: 3.95 ms, total: 818 ms\n",
      "Wall time: 831 ms\n"
     ]
    },
    {
     "name": "stdout",
     "output_type": "stream",
     "text": [
      "CPU times: user 1.7 s, sys: 3.98 ms, total: 1.71 s\n",
      "Wall time: 1.74 s\n"
     ]
    },
    {
     "name": "stdout",
     "output_type": "stream",
     "text": [
      "CPU times: user 3.42 s, sys: 23.9 ms, total: 3.45 s\n",
      "Wall time: 3.51 s\n",
      "[1, 0, 1, 0, 57, 0, 5140, 0, 615545, 0, 89863956]\n"
     ]
    }
   ],
   "source": [
    "import numpy as np\n",
    "from math import factorial\n",
    "from sage.all import *\n",
    "from sage.all import binomial as sg_binomial\n",
    "\n",
    "\n",
    "U=[]\n",
    "for n in [0..12]:\n",
    "\tif n%2==0:\n",
    "\t\tU.append(sg_binomial(n,n/2))\n",
    "\telse:\n",
    "\t\tU.append(0)\n",
    "        \n",
    "        \n",
    "def multinomial(*args):\n",
    "    factorials = [math.factorial(i) for i in range(n+1)]\n",
    "\n",
    "    total = factorials[sum(args)] \n",
    "\n",
    "    for arg in args:\n",
    "        total //= factorials[arg] \n",
    "\n",
    "    return total\n",
    "\n",
    "\n",
    "def combinations_sum(n, num_elements):\n",
    "    if num_elements == 1:\n",
    "        yield (n,)\n",
    "    else:\n",
    "        for i in range(n+1):\n",
    "            for combination in combinations_sum(n - i, num_elements - 1):\n",
    "                yield (i,) + combination\n",
    "\n",
    "\n",
    "def nth_moment(n):\n",
    "    Mn = 0;\n",
    "\n",
    "    for combination in combinations_sum(n, 10): \n",
    "        a, b, c, d, e, f, g, h, i, j = combination\n",
    "\n",
    "        uProd = np.prod(U[a] * U[b] * U[c] * U[d] * U[e] * U[f] * U[g] * U[h] * U[i] * U[j])\n",
    "\n",
    "        Mn += multinomial(*combination) * uProd\n",
    "\n",
    "    return Mn\n",
    "\n",
    "\n",
    "a1momentList=[1]\n",
    "for n in range(1,11):\n",
    "\t%time a1momentList.append(nth_moment(n)/20)\n",
    "\n",
    "print(a1momentList)"
   ]
  },
  {
   "cell_type": "markdown",
   "id": "ead9c9",
   "metadata": {
    "collapsed": false
   },
   "source": [
    "## $\\ell = 7$\n",
    "\n",
    "In the following code, we compute the $a_1$ moment sequence:\n",
    "\n"
   ]
  },
  {
   "cell_type": "code",
   "execution_count": 12,
   "id": "442dbd",
   "metadata": {
    "collapsed": false
   },
   "outputs": [
    {
     "name": "stdout",
     "output_type": "stream",
     "text": [
      "CPU times: user 1.4 ms, sys: 0 ns, total: 1.4 ms\n",
      "Wall time: 1.37 ms\n",
      "CPU times: user 12.8 ms, sys: 0 ns, total: 12.8 ms\n",
      "Wall time: 12.2 ms\n",
      "CPU times: user 85.5 ms, sys: 0 ns, total: 85.5 ms\n",
      "Wall time: 84.8 ms\n"
     ]
    },
    {
     "name": "stdout",
     "output_type": "stream",
     "text": [
      "CPU times: user 455 ms, sys: 0 ns, total: 455 ms\n",
      "Wall time: 498 ms\n"
     ]
    },
    {
     "name": "stdout",
     "output_type": "stream",
     "text": [
      "CPU times: user 2.36 s, sys: 0 ns, total: 2.36 s\n",
      "Wall time: 2.39 s\n"
     ]
    },
    {
     "name": "stdout",
     "output_type": "stream",
     "text": [
      "CPU times: user 10.3 s, sys: 51.9 ms, total: 10.3 s\n",
      "Wall time: 10.5 s\n"
     ]
    },
    {
     "name": "stdout",
     "output_type": "stream",
     "text": [
      "CPU times: user 37.2 s, sys: 216 ms, total: 37.4 s\n",
      "Wall time: 38.1 s\n"
     ]
    },
    {
     "name": "stdout",
     "output_type": "stream",
     "text": [
      "CPU times: user 2min 13s, sys: 563 ms, total: 2min 14s\n",
      "Wall time: 2min 16s\n",
      "[1, 0, 1, 0, 123, 0, 24610, 0, 6727035]\n"
     ]
    }
   ],
   "source": [
    "def multinomial(*args):\n",
    "    factorials = [math.factorial(i) for i in range(n+1)]\n",
    "\n",
    "    total = factorials[sum(args)] \n",
    "\n",
    "    for arg in args:\n",
    "        total //= factorials[arg] \n",
    "\n",
    "    return total\n",
    "\n",
    "\n",
    "def combinations_sum(n, num_elements):\n",
    "    if num_elements == 1:\n",
    "        yield (n,)\n",
    "    else:\n",
    "        for i in range(n+1):\n",
    "            for combination in combinations_sum(n - i, num_elements - 1):\n",
    "                yield (i,) + combination\n",
    "\n",
    "\n",
    "def nth_moment(n):\n",
    "    Mn = 0;\n",
    "\n",
    "    for combination in combinations_sum(n, 21): \n",
    "        a, b, c, d, e, f, g, h, i, j, k, l, m, n, o, p, q, r, s, t, u = combination \n",
    "\n",
    "        uProd = np.prod(U[a] * U[b] * U[c] * U[d] * U[e] * U[f] * U[g] * U[h] * U[i] * U[j]* U[k]* U[l]* U[m]* U[n]* U[o]* U[p]* U[q]* U[r]* U[s]* U[t]* U[u])\n",
    "    \n",
    "        Mn += multinomial(*combination) * uProd\n",
    "    return Mn\n",
    "\n",
    "\n",
    "a1moments=[1]\n",
    "for n in range(1,9):\n",
    "\t%time a1moments.append(nth_moment(n)/42)\n",
    "\n",
    "print(a1moments)"
   ]
  },
  {
   "cell_type": "code",
   "execution_count": 0,
   "id": "d0cf9d",
   "metadata": {
    "collapsed": false
   },
   "outputs": [
   ],
   "source": [
   ]
  }
 ],
 "metadata": {
  "kernelspec": {
   "argv": [
    "sage-10.4",
    "--python",
    "-m",
    "sage.repl.ipython_kernel",
    "--matplotlib=inline",
    "-f",
    "{connection_file}"
   ],
   "display_name": "SageMath 10.4",
   "env": {
   },
   "language": "sagemath",
   "metadata": {
    "cocalc": {
     "description": "Open-source mathematical software system",
     "priority": 10,
     "url": "https://www.sagemath.org/"
    }
   },
   "name": "sage-10.4",
   "resource_dir": "/ext/jupyter/kernels/sage-10.4"
  },
  "language_info": {
   "codemirror_mode": {
    "name": "ipython",
    "version": 3
   },
   "file_extension": ".py",
   "mimetype": "text/x-python",
   "name": "python",
   "nbconvert_exporter": "python",
   "pygments_lexer": "ipython3",
   "version": "3.12.4"
  }
 },
 "nbformat": 4,
 "nbformat_minor": 4
}